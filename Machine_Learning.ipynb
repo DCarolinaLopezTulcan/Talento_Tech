{
  "nbformat": 4,
  "nbformat_minor": 0,
  "metadata": {
    "colab": {
      "provenance": [],
      "authorship_tag": "ABX9TyPiCfQ/yDZSJn10ylFy4cc5",
      "include_colab_link": true
    },
    "kernelspec": {
      "name": "python3",
      "display_name": "Python 3"
    },
    "language_info": {
      "name": "python"
    }
  },
  "cells": [
    {
      "cell_type": "markdown",
      "metadata": {
        "id": "view-in-github",
        "colab_type": "text"
      },
      "source": [
        "<a href=\"https://colab.research.google.com/github/DCarolinaLopezTulcan/Talento_Tech/blob/main/Machine_Learning.ipynb\" target=\"_parent\"><img src=\"https://colab.research.google.com/assets/colab-badge.svg\" alt=\"Open In Colab\"/></a>"
      ]
    },
    {
      "cell_type": "markdown",
      "source": [
        "Machine Learning - Mean Median Mode"
      ],
      "metadata": {
        "id": "JHGtPCe4vgZ1"
      }
    },
    {
      "cell_type": "code",
      "execution_count": null,
      "metadata": {
        "colab": {
          "base_uri": "https://localhost:8080/"
        },
        "id": "Adp-QR-IuEb1",
        "outputId": "0ff245b4-1249-4e52-e643-b22009c6e6e3"
      },
      "outputs": [
        {
          "output_type": "stream",
          "name": "stdout",
          "text": [
            "89.76923076923077\n"
          ]
        }
      ],
      "source": [
        "import numpy as np\n",
        "velocidad = [99,86,87,88,111,86,103,87,94,78,77,85,86]\n",
        "promedio= np.mean(velocidad)\n",
        "print(promedio)"
      ]
    },
    {
      "cell_type": "code",
      "source": [
        "import numpy as np\n",
        "velocidad = [99,86,87,88,111,86,103,87,94,78,77,85,86]\n",
        "promedio= np.median(velocidad)\n",
        "print(promedio)"
      ],
      "metadata": {
        "colab": {
          "base_uri": "https://localhost:8080/"
        },
        "id": "Q12PGY7fwe5-",
        "outputId": "b12a3365-a65b-4ff6-dfdd-2f826645c90e"
      },
      "execution_count": null,
      "outputs": [
        {
          "output_type": "stream",
          "name": "stdout",
          "text": [
            "87.0\n"
          ]
        }
      ]
    },
    {
      "cell_type": "code",
      "source": [
        "import numpy\n",
        "\n",
        "speed = [99,86,87,88,86,103,87,94,78,77,85,86]\n",
        "\n",
        "x = numpy.median(speed)\n",
        "\n",
        "print(x)"
      ],
      "metadata": {
        "colab": {
          "base_uri": "https://localhost:8080/"
        },
        "id": "36BcP2qEM6z_",
        "outputId": "fd4d0f97-a0fe-443b-a53a-bb77c7a7e07c"
      },
      "execution_count": null,
      "outputs": [
        {
          "output_type": "stream",
          "name": "stdout",
          "text": [
            "86.5\n"
          ]
        }
      ]
    },
    {
      "cell_type": "code",
      "source": [
        "from scipy import stats\n",
        "\n",
        "speed = [99,86,87,88,111,86,103,87,94,78,77,85,86]\n",
        "\n",
        "x = stats.mode(speed)\n",
        "\n",
        "print(x)"
      ],
      "metadata": {
        "colab": {
          "base_uri": "https://localhost:8080/"
        },
        "id": "hJCHCyliM_cL",
        "outputId": "3fe5df7d-6fbb-4925-bc11-5e108e57ae42"
      },
      "execution_count": null,
      "outputs": [
        {
          "output_type": "stream",
          "name": "stdout",
          "text": [
            "ModeResult(mode=86, count=3)\n"
          ]
        }
      ]
    },
    {
      "cell_type": "markdown",
      "source": [
        "UNIDAD 3: BASES MATEMATICAS"
      ],
      "metadata": {
        "id": "a7n87aP4WjC5"
      }
    },
    {
      "cell_type": "code",
      "source": [
        "# suma de matrices\n",
        "matriz1 = np.array([[1, 2], [3, 4]])\n",
        "matriz2 = np.array([[5, 6], [7, 8]])\n",
        "suma = matriz1 + matriz2\n",
        "print(suma)\n"
      ],
      "metadata": {
        "colab": {
          "base_uri": "https://localhost:8080/"
        },
        "id": "aevVqAMPWmoA",
        "outputId": "da5571a1-21aa-4bf8-acc1-69dc3ec67c63"
      },
      "execution_count": null,
      "outputs": [
        {
          "output_type": "stream",
          "name": "stdout",
          "text": [
            "[[ 6  8]\n",
            " [10 12]]\n"
          ]
        }
      ]
    },
    {
      "cell_type": "code",
      "source": [
        "# Transpuesta\n",
        "transpuesta = np.transpose(matriz1)\n",
        "print(transpuesta)"
      ],
      "metadata": {
        "colab": {
          "base_uri": "https://localhost:8080/"
        },
        "id": "TsKktDoq89aF",
        "outputId": "a9d9d71f-7a77-432d-a21b-80aee3fb9472"
      },
      "execution_count": null,
      "outputs": [
        {
          "output_type": "stream",
          "name": "stdout",
          "text": [
            "[[1 3]\n",
            " [2 4]]\n"
          ]
        }
      ]
    },
    {
      "cell_type": "code",
      "source": [
        "# Inversa\n",
        "inversa = np.linalg.inv(matriz2)\n",
        "print(inversa)\n"
      ],
      "metadata": {
        "colab": {
          "base_uri": "https://localhost:8080/"
        },
        "id": "Pp_bAUOW9LMo",
        "outputId": "a1fd1186-ab29-4e7e-e0a0-b9238d56b62e"
      },
      "execution_count": null,
      "outputs": [
        {
          "output_type": "stream",
          "name": "stdout",
          "text": [
            "[[-4.   3. ]\n",
            " [ 3.5 -2.5]]\n"
          ]
        }
      ]
    },
    {
      "cell_type": "code",
      "source": [
        "# Determinante\n",
        "determinante = np.linalg.det(matriz1)\n",
        "print(determinante)"
      ],
      "metadata": {
        "id": "4MOfKohT9aPc",
        "outputId": "492c4afd-b98e-43c4-b480-0005ec3f0d9e",
        "colab": {
          "base_uri": "https://localhost:8080/"
        }
      },
      "execution_count": null,
      "outputs": [
        {
          "output_type": "stream",
          "name": "stdout",
          "text": [
            "-2.0000000000000004\n"
          ]
        }
      ]
    }
  ]
}