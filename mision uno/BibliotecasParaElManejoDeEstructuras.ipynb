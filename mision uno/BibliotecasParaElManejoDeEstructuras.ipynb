{
  "nbformat": 4,
  "nbformat_minor": 0,
  "metadata": {
    "colab": {
      "provenance": [],
      "authorship_tag": "ABX9TyNhodP4F8AYOxLlPSDx7RUT",
      "include_colab_link": true
    },
    "kernelspec": {
      "name": "python3",
      "display_name": "Python 3"
    },
    "language_info": {
      "name": "python"
    }
  },
  "cells": [
    {
      "cell_type": "markdown",
      "metadata": {
        "id": "view-in-github",
        "colab_type": "text"
      },
      "source": [
        "<a href=\"https://colab.research.google.com/github/DCarolinaLopezTulcan/Talento_Tech/blob/main/BibliotecasParaElManejoDeEstructuras.ipynb\" target=\"_parent\"><img src=\"https://colab.research.google.com/assets/colab-badge.svg\" alt=\"Open In Colab\"/></a>"
      ]
    },
    {
      "cell_type": "markdown",
      "source": [
        "Verificar Instalacion de NumPy"
      ],
      "metadata": {
        "id": "Rc_sP82Tb87T"
      }
    },
    {
      "cell_type": "code",
      "execution_count": null,
      "metadata": {
        "colab": {
          "base_uri": "https://localhost:8080/"
        },
        "id": "1_b7Fkh0ZbtF",
        "outputId": "12927e8d-ff89-4f7c-84f1-c49b7814f2e5"
      },
      "outputs": [
        {
          "output_type": "stream",
          "name": "stdout",
          "text": [
            "1.26.4\n"
          ]
        }
      ],
      "source": [
        "import numpy as np\n",
        "print(np.__version__)"
      ]
    },
    {
      "cell_type": "markdown",
      "source": [
        "Creacion de ndarrays\n",
        "1. A partir de listas:"
      ],
      "metadata": {
        "id": "vy2hOlMlb6Z2"
      }
    },
    {
      "cell_type": "code",
      "source": [
        "import numpy as np\n",
        "\n",
        "#lista de numeros\n",
        "numeros = [1,2,3,4,5]\n",
        "\n",
        "#Creacion de un ndarray a partir de la lista\n",
        "ndarray_numeros = np.array(numeros)\n",
        "\n",
        "print(ndarray_numeros)\n",
        "\n",
        "\n"
      ],
      "metadata": {
        "colab": {
          "base_uri": "https://localhost:8080/"
        },
        "id": "5uc0MRLNcVcB",
        "outputId": "b1e44c88-772c-4566-a1d9-cb72cb86672c"
      },
      "execution_count": null,
      "outputs": [
        {
          "output_type": "stream",
          "name": "stdout",
          "text": [
            "[1 2 3 4 5]\n"
          ]
        }
      ]
    },
    {
      "cell_type": "markdown",
      "source": [
        "Creacion de ndarrays\n",
        "2. Especificando dimensiones y valores:\n"
      ],
      "metadata": {
        "id": "eTB9aaYddTxZ"
      }
    },
    {
      "cell_type": "code",
      "source": [
        "# Creacion de un ndarray de 2x3 con ceros\n",
        "matriz_ceros = np.zeros((2,3))\n",
        "print(matriz_ceros)\n",
        "\n",
        "#Creacion de ndarray de 3x3 con unos\n",
        "matriz_unos = np.ones((3,3))\n",
        "print(matriz_unos)\n",
        "\n",
        "#Creacion de un ndarray con valores especificos\n",
        "matriz_personalizada = np.array([[1,2,3],[4,5,6]])\n",
        "print(matriz_personalizada)\n"
      ],
      "metadata": {
        "colab": {
          "base_uri": "https://localhost:8080/"
        },
        "id": "NNseAT-wdwSv",
        "outputId": "752f0acb-80ed-410c-ce91-7a79b7b720d2"
      },
      "execution_count": null,
      "outputs": [
        {
          "output_type": "stream",
          "name": "stdout",
          "text": [
            "[[0. 0. 0.]\n",
            " [0. 0. 0.]]\n",
            "[[1. 1. 1.]\n",
            " [1. 1. 1.]\n",
            " [1. 1. 1.]]\n",
            "[[1 2 3]\n",
            " [4 5 6]]\n"
          ]
        }
      ]
    },
    {
      "cell_type": "markdown",
      "source": [
        "3. Funciones de NumPy:"
      ],
      "metadata": {
        "id": "0NB49nLbh3LX"
      }
    },
    {
      "cell_type": "code",
      "source": [
        "import numpy as np\n"
      ],
      "metadata": {
        "id": "lbA_sb_piD9e"
      },
      "execution_count": null,
      "outputs": []
    }
  ]
}
