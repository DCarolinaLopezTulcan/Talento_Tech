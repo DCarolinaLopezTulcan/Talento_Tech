{
  "nbformat": 4,
  "nbformat_minor": 0,
  "metadata": {
    "colab": {
      "provenance": [],
      "include_colab_link": true
    },
    "kernelspec": {
      "name": "python3",
      "display_name": "Python 3"
    },
    "language_info": {
      "name": "python"
    }
  },
  "cells": [
    {
      "cell_type": "markdown",
      "metadata": {
        "id": "view-in-github",
        "colab_type": "text"
      },
      "source": [
        "<a href=\"https://colab.research.google.com/github/DCarolinaLopezTulcan/Talento_Tech/blob/main/otro_hola_mundo_y_mas.ipynb\" target=\"_parent\"><img src=\"https://colab.research.google.com/assets/colab-badge.svg\" alt=\"Open In Colab\"/></a>"
      ]
    },
    {
      "cell_type": "markdown",
      "metadata": {
        "id": "6BvUv3j7szp-"
      },
      "source": [
        "**Hola Mundo**\n",
        "\n",
        "Inicios de Fund. de prog. con Python"
      ]
    },
    {
      "cell_type": "code",
      "metadata": {
        "colab": {
          "base_uri": "https://localhost:8080/"
        },
        "id": "M1f-RenhkdVt",
        "outputId": "833aac9f-3a8b-4a5c-ea75-2353b5b638c2"
      },
      "source": [
        "print(\"hola mundo\")\n",
        "x=4\n",
        "y=2\n",
        "suma=x+y\n",
        "print(suma)"
      ],
      "execution_count": null,
      "outputs": [
        {
          "output_type": "stream",
          "text": [
            "hola mundo\n",
            "6\n"
          ],
          "name": "stdout"
        }
      ]
    },
    {
      "cell_type": "markdown",
      "metadata": {
        "id": "QqQni343oEPl"
      },
      "source": [
        "# Continuación:"
      ]
    },
    {
      "cell_type": "code",
      "metadata": {
        "colab": {
          "base_uri": "https://localhost:8080/"
        },
        "id": "gQTVIAqokcQG",
        "outputId": "31b2a97c-3f1a-4ba5-fdb2-359cf9487ea5"
      },
      "source": [
        "# Ejemplo de un función: y=f(x)\n",
        "def calcular_suma(x,y):\n",
        "    suma=x+y\n",
        "    return suma\n",
        "\n",
        "resultado_suma=calcular_suma(4,2)\n",
        "\n",
        "print(resultado_suma)"
      ],
      "execution_count": null,
      "outputs": [
        {
          "output_type": "stream",
          "text": [
            "6\n"
          ],
          "name": "stdout"
        }
      ]
    },
    {
      "cell_type": "markdown",
      "metadata": {
        "id": "nSrd5r1Gn6y_"
      },
      "source": [
        "# Lo anterior en una sola celda:"
      ]
    },
    {
      "cell_type": "code",
      "metadata": {
        "colab": {
          "base_uri": "https://localhost:8080/"
        },
        "id": "1eYJ7mA8oCzK",
        "outputId": "fdc43868-3d38-4d99-e757-5b6f66da5122"
      },
      "source": [
        "# Online Python compiler (interpreter) to run Python online.\n",
        "# Write Python 3 code in this online editor and run it.\n",
        "print(\"Hello world\")\n",
        "print(\"hola mundo\")\n",
        "x=4 # asigno el dato 4 (numero entero) a la variable nombrada x\n",
        "y=2 # asigno el dato 2 (numero entero) a la variable nombrada y\n",
        "suma=x+y # variable que guarda variables\n",
        "print(suma) # imprimiendo en pantalla\n",
        "# Ejemplo de un función: y=f(x)\n",
        "def calcular_suma(x,y):\n",
        "    suma=x+y\n",
        "    return suma\n",
        "resultado_suma=calcular_suma(4,2)\n",
        "print(resultado_suma)\n",
        "\n",
        "x=float(input(\"Ingrese el primer número: \")) # asigno el dato 4 (numero entero) a la variable nombrada x\n",
        "y=float(input(\"Ingrese el segundo número: \")) # asigno el dato 2 (numero entero) a la variable nombrada y\n",
        "suma=x+y # variable que guarda variables\n",
        "print(\"La suma de los valores ingresados es: \",suma)"
      ],
      "execution_count": null,
      "outputs": [
        {
          "output_type": "stream",
          "text": [
            "Hello world\n",
            "hola mundo\n",
            "6\n",
            "6\n",
            "Ingrese el primer número: 4.7\n",
            "Ingrese el segundo número: 8.8\n",
            "La suma de los valores ingresados es:  13.5\n"
          ],
          "name": "stdout"
        }
      ]
    },
    {
      "cell_type": "code",
      "metadata": {
        "colab": {
          "base_uri": "https://localhost:8080/"
        },
        "id": "1HwwYa_ZoK8W",
        "outputId": "2c8eb8d2-51f9-445d-9ea8-415c69d63d8f"
      },
      "source": [
        "print()"
      ],
      "execution_count": null,
      "outputs": [
        {
          "output_type": "stream",
          "text": [
            "\n"
          ],
          "name": "stdout"
        }
      ]
    },
    {
      "cell_type": "code",
      "metadata": {
        "colab": {
          "base_uri": "https://localhost:8080/"
        },
        "id": "Ube7L83uod3q",
        "outputId": "9cdc08d6-7eba-4e9f-b7a1-714658fc05b1"
      },
      "source": [
        "print(\"algo\")"
      ],
      "execution_count": null,
      "outputs": [
        {
          "output_type": "stream",
          "text": [
            "algo\n"
          ],
          "name": "stdout"
        }
      ]
    },
    {
      "cell_type": "code",
      "metadata": {
        "colab": {
          "base_uri": "https://localhost:8080/"
        },
        "id": "CBjaTPvboicr",
        "outputId": "1c11fe09-ba56-4160-c28b-0660cf86d456"
      },
      "source": [
        "print('algo')"
      ],
      "execution_count": null,
      "outputs": [
        {
          "output_type": "stream",
          "text": [
            "algo\n"
          ],
          "name": "stdout"
        }
      ]
    },
    {
      "cell_type": "code",
      "metadata": {
        "colab": {
          "base_uri": "https://localhost:8080/",
          "height": 132
        },
        "id": "rx1lBlB3oww5",
        "outputId": "e8640a9e-a47a-4e49-a912-8d91219d132e"
      },
      "source": [
        "print(;)"
      ],
      "execution_count": null,
      "outputs": [
        {
          "output_type": "error",
          "ename": "SyntaxError",
          "evalue": "ignored",
          "traceback": [
            "\u001b[0;36m  File \u001b[0;32m\"<ipython-input-6-15f46b6b3fdf>\"\u001b[0;36m, line \u001b[0;32m1\u001b[0m\n\u001b[0;31m    print(;)\u001b[0m\n\u001b[0m          ^\u001b[0m\n\u001b[0;31mSyntaxError\u001b[0m\u001b[0;31m:\u001b[0m invalid syntax\n"
          ]
        }
      ]
    },
    {
      "cell_type": "code",
      "metadata": {
        "colab": {
          "base_uri": "https://localhost:8080/",
          "height": 167
        },
        "id": "TvnfsKCdpFMO",
        "outputId": "16361712-652f-47d9-8c96-814a69974a98"
      },
      "source": [
        "Print(\"Hola Mundo\")"
      ],
      "execution_count": null,
      "outputs": [
        {
          "output_type": "error",
          "ename": "NameError",
          "evalue": "ignored",
          "traceback": [
            "\u001b[0;31m---------------------------------------------------------------------------\u001b[0m",
            "\u001b[0;31mNameError\u001b[0m                                 Traceback (most recent call last)",
            "\u001b[0;32m<ipython-input-7-e93e425bbefe>\u001b[0m in \u001b[0;36m<module>\u001b[0;34m()\u001b[0m\n\u001b[0;32m----> 1\u001b[0;31m \u001b[0mPrint\u001b[0m\u001b[0;34m(\u001b[0m\u001b[0;34m\"Hola Mundo\"\u001b[0m\u001b[0;34m)\u001b[0m\u001b[0;34m\u001b[0m\u001b[0;34m\u001b[0m\u001b[0m\n\u001b[0m",
            "\u001b[0;31mNameError\u001b[0m: name 'Print' is not defined"
          ]
        }
      ]
    },
    {
      "cell_type": "code",
      "metadata": {
        "colab": {
          "base_uri": "https://localhost:8080/"
        },
        "id": "V7Lt4TcOpL4K",
        "outputId": "34b4e41f-c9b8-4fd9-b5d7-5f3253cec4bf"
      },
      "source": [
        "print(\"Hola Mundo\")"
      ],
      "execution_count": null,
      "outputs": [
        {
          "output_type": "stream",
          "text": [
            "Hola Mundo\n"
          ],
          "name": "stdout"
        }
      ]
    },
    {
      "cell_type": "code",
      "metadata": {
        "colab": {
          "base_uri": "https://localhost:8080/"
        },
        "id": "HfqPK0aLpZRS",
        "outputId": "a1aa7181-adcf-4795-88cc-3c9b90ae851d"
      },
      "source": [
        "print(\"Hello world\")"
      ],
      "execution_count": null,
      "outputs": [
        {
          "output_type": "stream",
          "text": [
            "Hello world\n"
          ],
          "name": "stdout"
        }
      ]
    },
    {
      "cell_type": "code",
      "metadata": {
        "colab": {
          "base_uri": "https://localhost:8080/"
        },
        "id": "8zxHBt-npbjC",
        "outputId": "acb67fca-5912-48b8-d887-f7bcc57a40b9"
      },
      "source": [
        "print(\"Andrés\")"
      ],
      "execution_count": null,
      "outputs": [
        {
          "output_type": "stream",
          "text": [
            "Andrés\n"
          ],
          "name": "stdout"
        }
      ]
    },
    {
      "cell_type": "code",
      "metadata": {
        "colab": {
          "base_uri": "https://localhost:8080/"
        },
        "id": "G3iKarETpf7r",
        "outputId": "3a8d7793-5ade-4eaa-fc9e-93772998cf06"
      },
      "source": [
        "solución=0\n",
        "print(solución)"
      ],
      "execution_count": null,
      "outputs": [
        {
          "output_type": "stream",
          "text": [
            "0\n"
          ],
          "name": "stdout"
        }
      ]
    },
    {
      "cell_type": "code",
      "metadata": {
        "id": "v-IL15GrpySd"
      },
      "source": [
        "cañon=\"canyon\""
      ],
      "execution_count": null,
      "outputs": []
    }
  ]
}